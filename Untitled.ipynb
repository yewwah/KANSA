{
 "cells": [
  {
   "cell_type": "code",
   "execution_count": 1,
   "metadata": {
    "collapsed": true
   },
   "outputs": [],
   "source": [
    "import pandas as pd"
   ]
  },
  {
   "cell_type": "code",
   "execution_count": 2,
   "metadata": {
    "collapsed": true
   },
   "outputs": [],
   "source": [
    "df = pd.read_csv('winevent2.csv')"
   ]
  },
  {
   "cell_type": "code",
   "execution_count": 4,
   "metadata": {
    "collapsed": false
   },
   "outputs": [],
   "source": [
    "def parse_msg(msg):\n",
    "    pass"
   ]
  },
  {
   "cell_type": "code",
   "execution_count": 94,
   "metadata": {
    "collapsed": true
   },
   "outputs": [],
   "source": [
    "msg = df.Message.values"
   ]
  },
  {
   "cell_type": "code",
   "execution_count": 96,
   "metadata": {
    "collapsed": false
   },
   "outputs": [
    {
     "data": {
      "text/plain": [
       "'Special privileges assigned to new logon.\\r\\r\\n\\r\\r\\nSubject:\\r\\r\\n\\tSecurity ID:\\t\\tS-1-5-18\\r\\r\\n\\tAccount Name:\\t\\tSYSTEM\\r\\r\\n\\tAccount Domain:\\t\\tNT AUTHORITY\\r\\r\\n\\tLogon ID:\\t\\t0x3e7\\r\\r\\n\\r\\r\\nPrivileges:\\t\\tSeAssignPrimaryTokenPrivilege\\r\\r\\n\\t\\t\\tSeTcbPrivilege\\r\\r\\n\\t\\t\\tSeSecurityPrivilege\\r\\r\\n\\t\\t\\tSeTakeOwnershipPrivilege\\r\\r\\n\\t\\t\\tSeLoadDriverPrivilege\\r\\r\\n\\t\\t\\tSeBackupPrivilege\\r\\r\\n\\t\\t\\tSeRestorePrivilege\\r\\r\\n\\t\\t\\tSeDebugPrivilege\\r\\r\\n\\t\\t\\tSeAuditPrivilege\\r\\r\\n\\t\\t\\tSeSystemEnvironmentPrivilege\\r\\r\\n\\t\\t\\tSeImpersonatePrivilege'"
      ]
     },
     "execution_count": 96,
     "metadata": {},
     "output_type": "execute_result"
    }
   ],
   "source": [
    "a = msg[0]\n",
    "a"
   ]
  },
  {
   "cell_type": "code",
   "execution_count": 139,
   "metadata": {
    "collapsed": false
   },
   "outputs": [
    {
     "name": "stdout",
     "output_type": "stream",
     "text": [
      "['Special privileges assigned to new logon.\\r', '\\r\\r\\nSubject:\\r\\r\\n\\tSecurity ID:\\t\\tS-1-5-18\\r\\r\\n\\tAccount Name:\\t\\tSYSTEM\\r\\r\\n\\tAccount Domain:\\t\\tNT AUTHORITY\\r\\r\\n\\tLogon ID:\\t\\t0x3e7\\r\\r\\n\\r\\r\\nPrivileges:\\t\\tSeAssignPrimaryTokenPrivilege\\r\\r\\n\\t\\t\\tSeTcbPrivilege\\r\\r\\n\\t\\t\\tSeSecurityPrivilege\\r\\r\\n\\t\\t\\tSeTakeOwnershipPrivilege\\r\\r\\n\\t\\t\\tSeLoadDriverPrivilege\\r\\r\\n\\t\\t\\tSeBackupPrivilege\\r\\r\\n\\t\\t\\tSeRestorePrivilege\\r\\r\\n\\t\\t\\tSeDebugPrivilege\\r\\r\\n\\t\\t\\tSeAuditPrivilege\\r\\r\\n\\t\\t\\tSeSystemEnvironmentPrivilege\\r\\r\\n\\t\\t\\tSeImpersonatePrivilege']\n"
     ]
    },
    {
     "data": {
      "text/plain": [
       "'Special privileges assigned to new logon.\\r'"
      ]
     },
     "execution_count": 139,
     "metadata": {},
     "output_type": "execute_result"
    }
   ],
   "source": [
    "lst = a.split('\\r\\n',1)\n",
    "print lst\n",
    "info = lst[0]\n",
    "info"
   ]
  },
  {
   "cell_type": "code",
   "execution_count": 140,
   "metadata": {
    "collapsed": false
   },
   "outputs": [
    {
     "name": "stdout",
     "output_type": "stream",
     "text": [
      "['Special privileges assigned to new logon.\\r', '\\r\\r\\nSubject:\\r\\r\\n\\tSecurity ID:\\t\\tS-1-5-18\\r\\r\\n\\tAccount Name:\\t\\tSYSTEM\\r\\r\\n\\tAccount Domain:\\t\\tNT AUTHORITY\\r\\r\\n\\tLogon ID:\\t\\t0x3e7\\r\\r\\n\\r\\r\\nPrivileges:\\t\\tSeAssignPrimaryTokenPrivilege\\r\\r\\n\\t\\t\\tSeTcbPrivilege\\r\\r\\n\\t\\t\\tSeSecurityPrivilege\\r\\r\\n\\t\\t\\tSeTakeOwnershipPrivilege\\r\\r\\n\\t\\t\\tSeLoadDriverPrivilege\\r\\r\\n\\t\\t\\tSeBackupPrivilege\\r\\r\\n\\t\\t\\tSeRestorePrivilege\\r\\r\\n\\t\\t\\tSeDebugPrivilege\\r\\r\\n\\t\\t\\tSeAuditPrivilege\\r\\r\\n\\t\\t\\tSeSystemEnvironmentPrivilege\\r\\r\\n\\t\\t\\tSeImpersonatePrivilege']\n"
     ]
    },
    {
     "data": {
      "text/plain": [
       "['\\r\\r\\nSubject:\\r\\r\\n\\tSecurity ID:\\t\\tS-1-5-18\\r\\r\\n\\tAccount Name:\\t\\tSYSTEM\\r\\r\\n\\tAccount Domain:\\t\\tNT AUTHORITY\\r\\r\\n\\tLogon ID:\\t\\t0x3e7\\r\\r\\n\\r\\r\\nPrivileges:\\t\\tSeAssignPrimaryTokenPrivilege\\r\\r\\n\\t\\t\\tSeTcbPrivilege\\r\\r\\n\\t\\t\\tSeSecurityPrivilege\\r\\r\\n\\t\\t\\tSeTakeOwnershipPrivilege\\r\\r\\n\\t\\t\\tSeLoadDriverPrivilege\\r\\r\\n\\t\\t\\tSeBackupPrivilege\\r\\r\\n\\t\\t\\tSeRestorePrivilege\\r\\r\\n\\t\\t\\tSeDebugPrivilege\\r\\r\\n\\t\\t\\tSeAuditPrivilege\\r\\r\\n\\t\\t\\tSeSystemEnvironmentPrivilege\\r\\r\\n\\t\\t\\tSeImpersonatePrivilege']"
      ]
     },
     "execution_count": 140,
     "metadata": {},
     "output_type": "execute_result"
    }
   ],
   "source": [
    "print lst\n",
    "new_lst = lst[1:]\n",
    "new_lst"
   ]
  },
  {
   "cell_type": "code",
   "execution_count": 182,
   "metadata": {
    "collapsed": false
   },
   "outputs": [
    {
     "name": "stdout",
     "output_type": "stream",
     "text": [
      "Match 1 was found at 6-22: Subject:\\r\\r\\n\\t\n",
      "Match 2 was found at 22-54: Security ID:\\t\\tS-1-5-18\\r\\r\\n\\t\n",
      "Match 3 was found at 54-85: Account Name:\\t\\tSYSTEM\\r\\r\\n\\t\n",
      "Match 4 was found at 85-124: Account Domain:\\t\\tNT AUTHORITY\\r\\r\\n\\t\n",
      "Match 5 was found at 124-137: Logon ID:\\t\\t\n",
      "Match 6 was found at 154-491: Privileges:\\t\\tSeAssignPrimaryTokenPrivilege\\r\\r\\n\\t\\t\\tSeTcbPrivilege\\r\\r\\n\\t\\t\\tSeSecurityPrivilege\\r\\r\\n\\t\\t\\tSeTakeOwnershipPrivilege\\r\\r\\n\\t\\t\\tSeLoadDriverPrivilege\\r\\r\\n\\t\\t\\tSeBackupPrivilege\\r\\r\\n\\t\\t\\tSeRestorePrivilege\\r\\r\\n\\t\\t\\tSeDebugPrivilege\\r\\r\\n\\t\\t\\tSeAuditPrivilege\\r\\r\\n\\t\\t\\tSeSystemEnvironmentPrivilege\\r\\r\\n\\t\\t\\t\n"
     ]
    }
   ],
   "source": [
    "import re\n",
    "\n",
    "regex = r\"(?<!\\\\)[\\w\\s]+\\:[\\w\\\\\\s\\-]+\\\\t\"\n",
    "\n",
    "test_str = \"\\\\r\\\\r\\\\nSubject:\\\\r\\\\r\\\\n\\\\tSecurity ID:\\\\t\\\\tS-1-5-18\\\\r\\\\r\\\\n\\\\tAccount Name:\\\\t\\\\tSYSTEM\\\\r\\\\r\\\\n\\\\tAccount Domain:\\\\t\\\\tNT AUTHORITY\\\\r\\\\r\\\\n\\\\tLogon ID:\\\\t\\\\t0x3e7\\\\r\\\\r\\\\n\\\\r\\\\r\\\\nPrivileges:\\\\t\\\\tSeAssignPrimaryTokenPrivilege\\\\r\\\\r\\\\n\\\\t\\\\t\\\\tSeTcbPrivilege\\\\r\\\\r\\\\n\\\\t\\\\t\\\\tSeSecurityPrivilege\\\\r\\\\r\\\\n\\\\t\\\\t\\\\tSeTakeOwnershipPrivilege\\\\r\\\\r\\\\n\\\\t\\\\t\\\\tSeLoadDriverPrivilege\\\\r\\\\r\\\\n\\\\t\\\\t\\\\tSeBackupPrivilege\\\\r\\\\r\\\\n\\\\t\\\\t\\\\tSeRestorePrivilege\\\\r\\\\r\\\\n\\\\t\\\\t\\\\tSeDebugPrivilege\\\\r\\\\r\\\\n\\\\t\\\\t\\\\tSeAuditPrivilege\\\\r\\\\r\\\\n\\\\t\\\\t\\\\tSeSystemEnvironmentPrivilege\\\\r\\\\r\\\\n\\\\t\\\\t\\\\tSeImpersonatePrivilege\"\n",
    "\n",
    "matches = re.finditer(regex, test_str)\n",
    "\n",
    "for matchNum, match in enumerate(matches):\n",
    "    matchNum = matchNum + 1\n",
    "    \n",
    "    print (\"Match {matchNum} was found at {start}-{end}: {match}\".format(matchNum = matchNum, start = match.start(), end = match.end(), match = match.group()))\n",
    "    \n",
    "    for groupNum in range(0, len(match.groups())):\n",
    "        groupNum = groupNum + 1\n",
    "        \n",
    "        print (\"Group {groupNum} found at {start}-{end}: {group}\".format(groupNum = groupNum, start = match.start(groupNum), end = match.end(groupNum), group = match.group(groupNum)))\n",
    "\n",
    "# Note: for Python 2.7 compatibility, use ur\"\" to prefix the regex and u\"\" to prefix the test string and substitution."
   ]
  },
  {
   "cell_type": "code",
   "execution_count": 183,
   "metadata": {
    "collapsed": false
   },
   "outputs": [
    {
     "name": "stdout",
     "output_type": "stream",
     "text": [
      "\\r\\r\\nSubject:\\r\\r\\n\\tSecurity ID:\\t\\tS-1-5-18\\r\\r\\n\\tAccount Name:\\t\\tSYSTEM\\r\\r\\n\\tAccount Domain:\\t\\tNT AUTHORITY\\r\\r\\n\\tLogon ID:\\t\\t0x3e7\\r\\r\\n\\r\\r\\nPrivileges:\\t\\tSeAssignPrimaryTokenPrivilege\\r\\r\\n\\t\\t\\tSeTcbPrivilege\\r\\r\\n\\t\\t\\tSeSecurityPrivilege\\r\\r\\n\\t\\t\\tSeTakeOwnershipPrivilege\\r\\r\\n\\t\\t\\tSeLoadDriverPrivilege\\r\\r\\n\\t\\t\\tSeBackupPrivilege\\r\\r\\n\\t\\t\\tSeRestorePrivilege\\r\\r\\n\\t\\t\\tSeDebugPrivilege\\r\\r\\n\\t\\t\\tSeAuditPrivilege\\r\\r\\n\\t\\t\\tSeSystemEnvironmentPrivilege\\r\\r\\n\\t\\t\\tSeImpersonatePrivilege\n",
      "\r",
      "\r\n",
      "Subject:\r",
      "\r\n",
      "\tSecurity ID:\t\tS-1-5-18\r",
      "\r\n",
      "\tAccount Name:\t\tSYSTEM\r",
      "\r\n",
      "\tAccount Domain:\t\tNT AUTHORITY\r",
      "\r\n",
      "\tLogon ID:\t\t0x3e7\r",
      "\r\n",
      "\r",
      "\r\n",
      "Privileges:\t\tSeAssignPrimaryTokenPrivilege\r",
      "\r\n",
      "\t\t\tSeTcbPrivilege\r",
      "\r\n",
      "\t\t\tSeSecurityPrivilege\r",
      "\r\n",
      "\t\t\tSeTakeOwnershipPrivilege\r",
      "\r\n",
      "\t\t\tSeLoadDriverPrivilege\r",
      "\r\n",
      "\t\t\tSeBackupPrivilege\r",
      "\r\n",
      "\t\t\tSeRestorePrivilege\r",
      "\r\n",
      "\t\t\tSeDebugPrivilege\r",
      "\r\n",
      "\t\t\tSeAuditPrivilege\r",
      "\r\n",
      "\t\t\tSeSystemEnvironmentPrivilege\r",
      "\r\n",
      "\t\t\tSeImpersonatePrivilege\n"
     ]
    }
   ],
   "source": [
    "test_str == new_lst[0]\n",
    "print test_str\n",
    "print new_lst[0]"
   ]
  },
  {
   "cell_type": "code",
   "execution_count": 214,
   "metadata": {
    "collapsed": false
   },
   "outputs": [
    {
     "ename": "TypeError",
     "evalue": "'_sre.SRE_Match' object has no attribute '__getitem__'",
     "output_type": "error",
     "traceback": [
      "\u001b[0;31m---------------------------------------------------------------------------\u001b[0m",
      "\u001b[0;31mTypeError\u001b[0m                                 Traceback (most recent call last)",
      "\u001b[0;32m<ipython-input-214-dea739cfe627>\u001b[0m in \u001b[0;36m<module>\u001b[0;34m()\u001b[0m\n\u001b[1;32m      2\u001b[0m \u001b[0mz\u001b[0m \u001b[0;34m=\u001b[0m \u001b[0mstr\u001b[0m\u001b[0;34m(\u001b[0m\u001b[0mnew_lst\u001b[0m\u001b[0;34m[\u001b[0m\u001b[0;36m0\u001b[0m\u001b[0;34m]\u001b[0m\u001b[0;34m)\u001b[0m\u001b[0;34m\u001b[0m\u001b[0m\n\u001b[1;32m      3\u001b[0m \u001b[0mc\u001b[0m \u001b[0;34m=\u001b[0m \u001b[0mre\u001b[0m\u001b[0;34m.\u001b[0m\u001b[0mmatch\u001b[0m\u001b[0;34m(\u001b[0m\u001b[0;34mr'(?<!\\\\)[\\w\\s]+\\:[\\w\\s\\-]+\\t'\u001b[0m\u001b[0;34m,\u001b[0m\u001b[0mz\u001b[0m\u001b[0;34m)\u001b[0m\u001b[0;34m\u001b[0m\u001b[0m\n\u001b[0;32m----> 4\u001b[0;31m \u001b[0mc\u001b[0m\u001b[0;34m[\u001b[0m\u001b[0;36m0\u001b[0m\u001b[0;34m]\u001b[0m\u001b[0;34m\u001b[0m\u001b[0m\n\u001b[0m",
      "\u001b[0;31mTypeError\u001b[0m: '_sre.SRE_Match' object has no attribute '__getitem__'"
     ]
    }
   ],
   "source": [
    "import re\n",
    "z = str(new_lst[0])\n",
    "c = re.match(r'(?<!\\\\)[\\w\\s]+\\:[\\w\\s\\-]+\\t',z)\n",
    "c[0]"
   ]
  },
  {
   "cell_type": "code",
   "execution_count": 209,
   "metadata": {
    "collapsed": false
   },
   "outputs": [
    {
     "name": "stdout",
     "output_type": "stream",
     "text": [
      "'\\r\\r\\nSubject:\\r\\r\\n\\tSecurity ID:\\t\\tS-1-5-18\\r\\r\\n\\tAccount Name:\\t\\tSYSTEM\\r\\r\\n\\tAccount Domain:\\t\\tNT AUTHORITY\\r\\r\\n\\tLogon ID:\\t\\t0x3e7\\r\\r\\n\\r\\r\\nPrivileges:\\t\\tSeAssignPrimaryTokenPrivilege\\r\\r\\n\\t\\t\\tSeTcbPrivilege\\r\\r\\n\\t\\t\\tSeSecurityPrivilege\\r\\r\\n\\t\\t\\tSeTakeOwnershipPrivilege\\r\\r\\n\\t\\t\\tSeLoadDriverPrivilege\\r\\r\\n\\t\\t\\tSeBackupPrivilege\\r\\r\\n\\t\\t\\tSeRestorePrivilege\\r\\r\\n\\t\\t\\tSeDebugPrivilege\\r\\r\\n\\t\\t\\tSeAuditPrivilege\\r\\r\\n\\t\\t\\tSeSystemEnvironmentPrivilege\\r\\r\\n\\t\\t\\tSeImpersonatePrivilege'\n",
      "\\r\\r\\nSubject:\\r\\r\\n\\tSecurity ID:\\t\\tS-1-5-18\\r\\r\\n\\tAccount Name:\\t\\tSYSTEM\\r\\r\\n\\tAccount Domain:\\t\\tNT AUTHORITY\\r\\r\\n\\tLogon ID:\\t\\t0x3e7\\r\\r\\n\\r\\r\\nPrivileges:\\t\\tSeAssignPrimaryTokenPrivilege\\r\\r\\n\\t\\t\\tSeTcbPrivilege\\r\\r\\n\\t\\t\\tSeSecurityPrivilege\\r\\r\\n\\t\\t\\tSeTakeOwnershipPrivilege\\r\\r\\n\\t\\t\\tSeLoadDriverPrivilege\\r\\r\\n\\t\\t\\tSeBackupPrivilege\\r\\r\\n\\t\\t\\tSeRestorePrivilege\\r\\r\\n\\t\\t\\tSeDebugPrivilege\\r\\r\\n\\t\\t\\tSeAuditPrivilege\\r\\r\\n\\t\\t\\tSeSystemEnvironmentPrivilege\\r\\r\\n\\t\\t\\tSeImpersonatePrivilege\n"
     ]
    }
   ],
   "source": [
    "print repr(new_lst[0])\n",
    "len(test_str)\n",
    "c = r'\\r\\r\\nSubject:\\r\\r\\n\\tSecurity ID:\\t\\tS-1-5-18\\r\\r\\n\\tAccount Name:\\t\\tSYSTEM\\r\\r\\n\\tAccount Domain:\\t\\tNT AUTHORITY\\r\\r\\n\\tLogon ID:\\t\\t0x3e7\\r\\r\\n\\r\\r\\nPrivileges:\\t\\tSeAssignPrimaryTokenPrivilege\\r\\r\\n\\t\\t\\tSeTcbPrivilege\\r\\r\\n\\t\\t\\tSeSecurityPrivilege\\r\\r\\n\\t\\t\\tSeTakeOwnershipPrivilege\\r\\r\\n\\t\\t\\tSeLoadDriverPrivilege\\r\\r\\n\\t\\t\\tSeBackupPrivilege\\r\\r\\n\\t\\t\\tSeRestorePrivilege\\r\\r\\n\\t\\t\\tSeDebugPrivilege\\r\\r\\n\\t\\t\\tSeAuditPrivilege\\r\\r\\n\\t\\t\\tSeSystemEnvironmentPrivilege\\r\\r\\n\\t\\t\\tSeImpersonatePrivilege'\n",
    "print (c)"
   ]
  },
  {
   "cell_type": "code",
   "execution_count": 173,
   "metadata": {
    "collapsed": false
   },
   "outputs": [
    {
     "name": "stdout",
     "output_type": "stream",
     "text": [
      "Match 1 was found at 6-18: abc:\\r\\r\\n\\t\n",
      "Match 2 was found at 18-46: def ghi:\\t\\tS-1-5-18\\r\\r\\n\\t\n",
      "Match 3 was found at 46-73: lll zzz:\\t\\tstring1\\r\\r\\n\\t\n"
     ]
    }
   ],
   "source": [
    "for matchNum, match in enumerate(matches):\n",
    "    matchNum = matchNum + 1\n",
    "    \n",
    "    print (\"Match {matchNum} was found at {start}-{end}: {match}\".format(matchNum = matchNum, start = match.start(), end = match.end(), match = match.group()))\n",
    "    \n",
    "    for groupNum in range(0, len(match.groups())):\n",
    "        groupNum = groupNum + 1\n",
    "        \n",
    "        print (\"Group {groupNum} found at {start}-{end}: {group}\".format(groupNum = groupNum, start = match.start(groupNum), end = match.end(groupNum), group = match.group(groupNum)))\n"
   ]
  },
  {
   "cell_type": "code",
   "execution_count": 141,
   "metadata": {
    "collapsed": false
   },
   "outputs": [
    {
     "data": {
      "text/plain": [
       "['\\r\\r\\nSubject',\n",
       " '\\r\\r\\n\\tSecurity ID',\n",
       " '\\t\\tS-1-5-18\\r\\r\\n\\tAccount Name',\n",
       " '\\t\\tSYSTEM\\r\\r\\n\\tAccount Domain',\n",
       " '\\t\\tNT AUTHORITY\\r\\r\\n\\tLogon ID',\n",
       " '\\t\\t0x3e7\\r\\r\\n\\r\\r\\nPrivileges',\n",
       " '\\t\\tSeAssignPrimaryTokenPrivilege\\r\\r\\n\\t\\t\\tSeTcbPrivilege\\r\\r\\n\\t\\t\\tSeSecurityPrivilege\\r\\r\\n\\t\\t\\tSeTakeOwnershipPrivilege\\r\\r\\n\\t\\t\\tSeLoadDriverPrivilege\\r\\r\\n\\t\\t\\tSeBackupPrivilege\\r\\r\\n\\t\\t\\tSeRestorePrivilege\\r\\r\\n\\t\\t\\tSeDebugPrivilege\\r\\r\\n\\t\\t\\tSeAuditPrivilege\\r\\r\\n\\t\\t\\tSeSystemEnvironmentPrivilege\\r\\r\\n\\t\\t\\tSeImpersonatePrivilege']"
      ]
     },
     "execution_count": 141,
     "metadata": {},
     "output_type": "execute_result"
    }
   ],
   "source": [
    "splt = new_lst[0].split(':')\n",
    "splt"
   ]
  },
  {
   "cell_type": "code",
   "execution_count": 143,
   "metadata": {
    "collapsed": false
   },
   "outputs": [
    {
     "data": {
      "text/plain": [
       "[['\\r', 'Subject'],\n",
       " ['\\r', '\\tSecurity ID'],\n",
       " ['\\t\\tS-1-5-18\\r', '\\tAccount Name'],\n",
       " ['\\t\\tSYSTEM\\r', '\\tAccount Domain'],\n",
       " ['\\t\\tNT AUTHORITY\\r', '\\tLogon ID'],\n",
       " ['\\t\\t0x3e7\\r', '\\r', 'Privileges'],\n",
       " ['\\t\\tSeAssignPrimaryTokenPrivilege\\r',\n",
       "  '\\t\\t\\tSeTcbPrivilege\\r',\n",
       "  '\\t\\t\\tSeSecurityPrivilege\\r',\n",
       "  '\\t\\t\\tSeTakeOwnershipPrivilege\\r',\n",
       "  '\\t\\t\\tSeLoadDriverPrivilege\\r',\n",
       "  '\\t\\t\\tSeBackupPrivilege\\r',\n",
       "  '\\t\\t\\tSeRestorePrivilege\\r',\n",
       "  '\\t\\t\\tSeDebugPrivilege\\r',\n",
       "  '\\t\\t\\tSeAuditPrivilege\\r',\n",
       "  '\\t\\t\\tSeSystemEnvironmentPrivilege\\r',\n",
       "  '\\t\\t\\tSeImpersonatePrivilege']]"
      ]
     },
     "execution_count": 143,
     "metadata": {},
     "output_type": "execute_result"
    }
   ],
   "source": [
    "splt2 = [x.split('\\r\\n') for x in splt]\n",
    "splt2"
   ]
  },
  {
   "cell_type": "code",
   "execution_count": 124,
   "metadata": {
    "collapsed": false
   },
   "outputs": [
    {
     "name": "stdout",
     "output_type": "stream",
     "text": [
      "['\\r\\r\\nSubject:\\r\\r\\n\\tSecurity ID:\\t\\tS-1-5-18\\r\\r\\n\\tAccount Name:\\t\\tSYSTEM\\r\\r\\n\\tAccount Domain:\\t\\tNT AUTHORITY\\r\\r\\n\\tLogon ID:\\t\\t0x3e7\\r\\r\\n\\r\\r\\nPrivileges:\\t\\tSeAssignPrimaryTokenPrivilege\\r\\r\\n\\t\\t\\tSeTcbPrivilege\\r\\r\\n\\t\\t\\tSeSecurityPrivilege\\r\\r\\n\\t\\t\\tSeTakeOwnershipPrivilege\\r\\r\\n\\t\\t\\tSeLoadDriverPrivilege\\r\\r\\n\\t\\t\\tSeBackupPrivilege\\r\\r\\n\\t\\t\\tSeRestorePrivilege\\r\\r\\n\\t\\t\\tSeDebugPrivilege\\r\\r\\n\\t\\t\\tSeAuditPrivilege\\r\\r\\n\\t\\t\\tSeSystemEnvironmentPrivilege\\r\\r\\n\\t\\t\\tSeImpersonatePrivilege']\n",
      "['\\r\\r\\nSubject', '\\r\\r\\n\\tSecurity ID', '\\t\\tS-1-5-18\\r\\r\\n\\tAccount Name', '\\t\\tSYSTEM\\r\\r\\n\\tAccount Domain', '\\t\\tNT AUTHORITY\\r\\r\\n\\tLogon ID', '\\t\\t0x3e7\\r\\r\\n\\r\\r\\nPrivileges', '\\t\\tSeAssignPrimaryTokenPrivilege\\r\\r\\n\\t\\t\\tSeTcbPrivilege\\r\\r\\n\\t\\t\\tSeSecurityPrivilege\\r\\r\\n\\t\\t\\tSeTakeOwnershipPrivilege\\r\\r\\n\\t\\t\\tSeLoadDriverPrivilege\\r\\r\\n\\t\\t\\tSeBackupPrivilege\\r\\r\\n\\t\\t\\tSeRestorePrivilege\\r\\r\\n\\t\\t\\tSeDebugPrivilege\\r\\r\\n\\t\\t\\tSeAuditPrivilege\\r\\r\\n\\t\\t\\tSeSystemEnvironmentPrivilege\\r\\r\\n\\t\\t\\tSeImpersonatePrivilege']\n"
     ]
    },
    {
     "data": {
      "text/plain": [
       "[['\\r', 'Subject'],\n",
       " ['\\r', '\\tSecurity ID'],\n",
       " ['\\t\\tS-1-5-18\\r', '\\tAccount Name'],\n",
       " ['\\t\\tSYSTEM\\r', '\\tAccount Domain'],\n",
       " ['\\t\\tNT AUTHORITY\\r', '\\tLogon ID'],\n",
       " ['\\t\\t0x3e7\\r', '\\r', 'Privileges'],\n",
       " ['\\t\\tSeAssignPrimaryTokenPrivilege\\r',\n",
       "  '\\t\\t\\tSeTcbPrivilege\\r',\n",
       "  '\\t\\t\\tSeSecurityPrivilege\\r',\n",
       "  '\\t\\t\\tSeTakeOwnershipPrivilege\\r',\n",
       "  '\\t\\t\\tSeLoadDriverPrivilege\\r',\n",
       "  '\\t\\t\\tSeBackupPrivilege\\r',\n",
       "  '\\t\\t\\tSeRestorePrivilege\\r',\n",
       "  '\\t\\t\\tSeDebugPrivilege\\r',\n",
       "  '\\t\\t\\tSeAuditPrivilege\\r',\n",
       "  '\\t\\t\\tSeSystemEnvironmentPrivilege\\r',\n",
       "  '\\t\\t\\tSeImpersonatePrivilege']]"
      ]
     },
     "execution_count": 124,
     "metadata": {},
     "output_type": "execute_result"
    }
   ],
   "source": [
    "print new_lst\n",
    "print splt\n",
    "splt2 = [(x.split('\\r\\n')) for x in splt]\n",
    "\n",
    "splt2"
   ]
  },
  {
   "cell_type": "code",
   "execution_count": 114,
   "metadata": {
    "collapsed": false
   },
   "outputs": [],
   "source": []
  },
  {
   "cell_type": "code",
   "execution_count": 115,
   "metadata": {
    "collapsed": false
   },
   "outputs": [
    {
     "data": {
      "text/plain": [
       "['Subject']"
      ]
     },
     "execution_count": 115,
     "metadata": {},
     "output_type": "execute_result"
    }
   ],
   "source": []
  },
  {
   "cell_type": "code",
   "execution_count": 116,
   "metadata": {
    "collapsed": false
   },
   "outputs": [
    {
     "name": "stdout",
     "output_type": "stream",
     "text": [
      "['\\r', 'Subject']\n",
      "['\\r', '\\tSecurity ID']\n",
      "['\\t\\tS-1-5-18\\r', '\\tAccount Name']\n",
      "['\\t\\tSYSTEM\\r', '\\tAccount Domain']\n",
      "['\\t\\tNT AUTHORITY\\r', '\\tLogon ID']\n",
      "['\\t\\t0x3e7\\r', '\\r', 'Privileges']\n",
      "['\\t\\tSeAssignPrimaryTokenPrivilege\\r', '\\t\\t\\tSeTcbPrivilege\\r', '\\t\\t\\tSeSecurityPrivilege\\r', '\\t\\t\\tSeTakeOwnershipPrivilege\\r', '\\t\\t\\tSeLoadDriverPrivilege\\r', '\\t\\t\\tSeBackupPrivilege\\r', '\\t\\t\\tSeRestorePrivilege\\r', '\\t\\t\\tSeDebugPrivilege\\r', '\\t\\t\\tSeAuditPrivilege\\r', '\\t\\t\\tSeSystemEnvironmentPrivilege\\r', '\\t\\t\\tSeImpersonatePrivilege']\n"
     ]
    },
    {
     "data": {
      "text/plain": [
       "['\\r',\n",
       " 'Subject',\n",
       " '\\r',\n",
       " '\\tSecurity ID',\n",
       " '\\t\\tS-1-5-18\\r',\n",
       " '\\tAccount Name',\n",
       " '\\t\\tSYSTEM\\r',\n",
       " '\\tAccount Domain',\n",
       " '\\t\\tNT AUTHORITY\\r',\n",
       " '\\tLogon ID',\n",
       " '\\t\\t0x3e7\\r',\n",
       " '\\r',\n",
       " 'Privileges',\n",
       " '\\t\\tSeAssignPrimaryTokenPrivilege\\r',\n",
       " '\\t\\t\\tSeTcbPrivilege\\r',\n",
       " '\\t\\t\\tSeSecurityPrivilege\\r',\n",
       " '\\t\\t\\tSeTakeOwnershipPrivilege\\r',\n",
       " '\\t\\t\\tSeLoadDriverPrivilege\\r',\n",
       " '\\t\\t\\tSeBackupPrivilege\\r',\n",
       " '\\t\\t\\tSeRestorePrivilege\\r',\n",
       " '\\t\\t\\tSeDebugPrivilege\\r',\n",
       " '\\t\\t\\tSeAuditPrivilege\\r',\n",
       " '\\t\\t\\tSeSystemEnvironmentPrivilege\\r',\n",
       " '\\t\\t\\tSeImpersonatePrivilege']"
      ]
     },
     "execution_count": 116,
     "metadata": {},
     "output_type": "execute_result"
    }
   ],
   "source": [
    "# flatten list\n",
    "z = []\n",
    "for x in splt2:\n",
    "    print x\n",
    "    for y in x:\n",
    "        z.append(y)  \n",
    "z"
   ]
  },
  {
   "cell_type": "code",
   "execution_count": 92,
   "metadata": {
    "collapsed": false
   },
   "outputs": [
    {
     "name": "stdout",
     "output_type": "stream",
     "text": [
      "('Subject', '\\r')\n",
      "('\\tSecurity ID', '\\t\\tS-1-5-18\\r')\n",
      "('\\tAccount Name', '\\t\\tSYSTEM\\r')\n",
      "('\\tAccount Domain', '\\t\\tNT AUTHORITY\\r')\n",
      "('\\tLogon ID', '\\t\\t0x3e7\\r')\n",
      "('Privileges', '\\t\\tSeAssignPrimaryTokenPrivilege\\r')\n",
      "('\\t\\t\\tSeTcbPrivilege\\r', '\\t\\t\\tSeSecurityPrivilege\\r')\n",
      "('\\t\\t\\tSeTakeOwnershipPrivilege\\r', '\\t\\t\\tSeLoadDriverPrivilege\\r')\n",
      "('\\t\\t\\tSeBackupPrivilege\\r', '\\t\\t\\tSeRestorePrivilege\\r')\n",
      "('\\t\\t\\tSeDebugPrivilege\\r', '\\t\\t\\tSeAuditPrivilege\\r')\n",
      "('\\t\\t\\tSeSystemEnvironmentPrivilege\\r', '\\t\\t\\tSeImpersonatePrivilege')\n"
     ]
    }
   ],
   "source": [
    "for i in range(0, len(flat), 2):\n",
    "    print (flat[i],flat[i+1])\n",
    "    "
   ]
  },
  {
   "cell_type": "code",
   "execution_count": 66,
   "metadata": {
    "collapsed": false
   },
   "outputs": [
    {
     "data": {
      "text/plain": [
       "7"
      ]
     },
     "execution_count": 66,
     "metadata": {},
     "output_type": "execute_result"
    }
   ],
   "source": [
    "len(splt2)"
   ]
  },
  {
   "cell_type": "code",
   "execution_count": 67,
   "metadata": {
    "collapsed": false
   },
   "outputs": [
    {
     "data": {
      "text/plain": [
       "22"
      ]
     },
     "execution_count": 67,
     "metadata": {},
     "output_type": "execute_result"
    }
   ],
   "source": [
    "len(flat)"
   ]
  },
  {
   "cell_type": "code",
   "execution_count": 69,
   "metadata": {
    "collapsed": false
   },
   "outputs": [
    {
     "data": {
      "text/plain": [
       "[['Subject'],\n",
       " ['\\r', '\\tSecurity ID'],\n",
       " ['\\t\\tS-1-5-18\\r', '\\tAccount Name'],\n",
       " ['\\t\\tSYSTEM\\r', '\\tAccount Domain'],\n",
       " ['\\t\\tNT AUTHORITY\\r', '\\tLogon ID'],\n",
       " ['\\t\\t0x3e7\\r', 'Privileges'],\n",
       " ['\\t\\tSeAssignPrimaryTokenPrivilege\\r',\n",
       "  '\\t\\t\\tSeTcbPrivilege\\r',\n",
       "  '\\t\\t\\tSeSecurityPrivilege\\r',\n",
       "  '\\t\\t\\tSeTakeOwnershipPrivilege\\r',\n",
       "  '\\t\\t\\tSeLoadDriverPrivilege\\r',\n",
       "  '\\t\\t\\tSeBackupPrivilege\\r',\n",
       "  '\\t\\t\\tSeRestorePrivilege\\r',\n",
       "  '\\t\\t\\tSeDebugPrivilege\\r',\n",
       "  '\\t\\t\\tSeAuditPrivilege\\r',\n",
       "  '\\t\\t\\tSeSystemEnvironmentPrivilege\\r',\n",
       "  '\\t\\t\\tSeImpersonatePrivilege']]"
      ]
     },
     "execution_count": 69,
     "metadata": {},
     "output_type": "execute_result"
    }
   ],
   "source": [
    "splt2"
   ]
  },
  {
   "cell_type": "code",
   "execution_count": null,
   "metadata": {
    "collapsed": true
   },
   "outputs": [],
   "source": []
  }
 ],
 "metadata": {
  "kernelspec": {
   "display_name": "Python 2",
   "language": "python",
   "name": "python2"
  },
  "language_info": {
   "codemirror_mode": {
    "name": "ipython",
    "version": 2
   },
   "file_extension": ".py",
   "mimetype": "text/x-python",
   "name": "python",
   "nbconvert_exporter": "python",
   "pygments_lexer": "ipython2",
   "version": "2.7.9"
  }
 },
 "nbformat": 4,
 "nbformat_minor": 2
}
